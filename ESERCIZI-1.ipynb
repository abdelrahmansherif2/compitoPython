{
 "cells": [
  {
   "cell_type": "markdown",
   "metadata": {},
   "source": [
    "### **1. Trasformare cicli in list comprehension**\n",
    "\n",
    "Fai tre esempi di cicli producono una lista e poi riscrivi lo stesso codice usando la list comprehension"
   ]
  },
  {
   "cell_type": "code",
   "execution_count": 1,
   "metadata": {},
   "outputs": [
    {
     "name": "stdout",
     "output_type": "stream",
     "text": [
      "1: Lista: ['d', 'f', 'h', 'j', 'l', 'n', 'p', 'r', 't', 'v', 'x'] Array: ['d', 'f', 'h', 'j', 'l', 'n', 'p', 'r', 't', 'v', 'x']\n",
      "2: Lista: [1, 1, 4, 27, 256] Array: [1, 1, 4, 27, 256]\n",
      "3: Lista: [44, 18, 4, 26, 32, 25, 32, 39, 24, 3, 20, 29, 33, 30, 49, 29, 18] Array: [44, 50, 3, 47, 15, 13, 20, 44, 34, 9, 2, 26, 46, 32, 43, 16, 44, 2, 20, 27, 49, 2, 33, 46, 11, 42, 43, 29, 13, 46, 7, 8, 21, 31, 10, 46, 13, 16, 11, 18, 43]\n"
     ]
    }
   ],
   "source": [
    "from random import *\n",
    "\n",
    "l1 = []\n",
    "for i in range (100, 122, 2):\n",
    "    l1.append(chr(i))\n",
    "l1lc = [chr(i) for i in range (100, 122, 2)]\n",
    "\n",
    "print(\"1: Lista:\", l1, \"Array:\",l1lc)\n",
    "\n",
    "l2 = []\n",
    "for i in range(9):\n",
    "    if i**i < 1000:\n",
    "        l2.append(i**i)\n",
    "l2lc = [i**i for i in range (39) if i**i < 1000]\n",
    "\n",
    "print(\"2: Lista:\",l2,\"Array:\", l2lc)\n",
    "\n",
    "l3 = []\n",
    "m = randint(2, 50)\n",
    "while m != 22:\n",
    "    l3.append(m)\n",
    "    m = randint(2, 50)\n",
    "\n",
    "def whl ():\n",
    "    m = randint(2, 50)\n",
    "    while m != 22:\n",
    "        yield m\n",
    "        m = randint(2, 50)\n",
    "\n",
    "l3lc = [i for i in whl()]\n",
    "\n",
    "print (\"3: Lista:\",l3,\"Array:\", l3lc)\n"
   ]
  },
  {
   "cell_type": "markdown",
   "metadata": {},
   "source": [
    "### **2. Vettore di Numeri Primi**\n",
    "\n",
    "1. **Crea un vettore** contenente tutti i numeri primi compresi tra **0 e 10**  \n",
    "   _(Puoi scriverli direttamente nell'array)._\n",
    "\n",
    "2. **Conta quanti numeri ci sono nel vettore** utilizzando la funzione `len()`.  **Ottieni lo stesso numero** accedendo all'attributo `.size` del vettore.\n",
    "\n",
    "3. Quale pensi sia il tipo di dato (`dtype`) del vettore?  Prova a rispondere senza eseguire il codice e Verifica la tua risposta accedendo all'attributo `.dtype` del vettore\n",
    "\n",
    "4. Scrivi l'array usando una list comprehension che controlla che i numeri siano primi. "
   ]
  },
  {
   "cell_type": "code",
   "execution_count": 4,
   "metadata": {},
   "outputs": [
    {
     "name": "stdout",
     "output_type": "stream",
     "text": [
      "Numeri prini < 10: [2 3 5 7] Lunghezza con len(): 4 Lunghezza con .size: 4\n",
      "int32\n",
      "Con list comprehension: [2 3 5 7]\n"
     ]
    }
   ],
   "source": [
    "import numpy\n",
    "from math import *\n",
    "\n",
    "l1 = []\n",
    "for i in range (2, 11):\n",
    "    pr = True\n",
    "    for j in range (2, i):\n",
    "        if i % j == 0:\n",
    "            pr = False\n",
    "    if pr:\n",
    "        l1.append(i)\n",
    "a1 = numpy.array(l1)\n",
    "print(\"Numeri prini < 10:\", a1, \"Lunghezza con len():\", len(a1), \"Lunghezza con .size:\", a1.size)\n",
    "#dtype ritornera il tipo del vettore (int) seguito dalla grandezza in bit di ogni elemento (64)\n",
    "print(a1.dtype) #INT 32?!?!?!\n",
    "\n",
    "a1lc = numpy.array([x for x in range(2, 11) if  all(x % y != 0 for y in range(2, x))])\n",
    "print(\"Con list comprehension:\", a1lc)"
   ]
  },
  {
   "cell_type": "markdown",
   "metadata": {},
   "source": [
    "### **3.  Operazioni su array**\n",
    "Crea un array **a**, 1D (senza digitarlo esplicitamente), e genera due nuovi array **b**, contenente una sottostringa a piacere e **c** che è il reverse dell'array **a** (esempio [1,2,3] diventa [3,2,1]) .  Dividi l'array **a** per l'array **c**. Fai la stessa cosa per una lista."
   ]
  },
  {
   "cell_type": "code",
   "execution_count": 7,
   "metadata": {},
   "outputs": [
    {
     "name": "stdout",
     "output_type": "stream",
     "text": [
      "Array A: [2 3 5 7] Stringa (array) B: fwey Array C: [7 5 3 2]\n",
      "A diviso C [0.28571429 0.6        1.66666667 3.5       ]\n",
      "Array A: [2, 3, 5, 7] Stringa (array) B: ['f', 'w', 'e', 'y'] Array C: [7, 5, 3, 2]\n",
      "Divisione della lista A con la lista C: 0.2857142857142857 0.6 1.6666666666666667 3.5 "
     ]
    }
   ],
   "source": [
    "import numpy\n",
    "a = numpy.array([x for x in range(2, 10) if  all(x % y != 0 for y in range(2, x))])\n",
    "b = numpy.array(\"fwey\")\n",
    "c = numpy.flip(a)\n",
    "print(\"Array A:\", a, \"Stringa (array) B:\", b, \"Array C:\",c)\n",
    "print(\"A diviso C\", a/c)\n",
    "la = [x for x in range(2, 10) if  all(x % y != 0 for y in range(2, x))]\n",
    "lb = list(\"fwey\")\n",
    "lc = la[::-1]\n",
    "print(\"Array A:\", la, \"Stringa (array) B:\", lb, \"Array C:\",lc)\n",
    "print(\"Divisione della lista A con la lista C:\", end = \" \")\n",
    "for i in range(len(la)):\n",
    "    print(la[i] / lc[i], end = \" \")"
   ]
  }
 ],
 "metadata": {
  "kernelspec": {
   "display_name": "base",
   "language": "python",
   "name": "python3"
  },
  "language_info": {
   "codemirror_mode": {
    "name": "ipython",
    "version": 3
   },
   "file_extension": ".py",
   "mimetype": "text/x-python",
   "name": "python",
   "nbconvert_exporter": "python",
   "pygments_lexer": "ipython3",
   "version": "3.12.7"
  }
 },
 "nbformat": 4,
 "nbformat_minor": 2
}
